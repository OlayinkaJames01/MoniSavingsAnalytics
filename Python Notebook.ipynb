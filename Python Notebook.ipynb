{
 "cells": [
  {
   "cell_type": "markdown",
   "id": "2536abb6",
   "metadata": {},
   "source": [
    "### Background Information"
   ]
  },
  {
   "cell_type": "markdown",
   "id": "dd54449c",
   "metadata": {},
   "source": [
    "Moni is a financial technology company that provides various financial services in diverse Africa countries which includes Nigeria, Benin Republic, Guinea and so on. focus. The company was founded with the goal of providing simple and innovative access to finance to the African community.\n",
    "\n",
    "Moni offers services such as high-yielding savings plans, business loans, insurance, and cash insurance policies. The company's savings plan allows users to create multiple savings plans to fund their lifestyle and dreams while earning high interest rates. Their business loans are designed to help small and medium-sized enterprises (SMEs) access flexible loans at competitive interest rates. They also offer insurance policies that protect businesses in the event of cash loss. \n",
    "\n",
    "Central to savings, Moni enables over 20k young people across Africa to save towards a goal.  This project is geared towards analyzing and visualizing patterns and insight from this sample data from Moni."
   ]
  },
  {
   "cell_type": "markdown",
   "id": "08ce1a9d",
   "metadata": {},
   "source": [
    "### Loading Libaries"
   ]
  },
  {
   "cell_type": "code",
   "execution_count": 1,
   "id": "dd9a8ff5",
   "metadata": {},
   "outputs": [],
   "source": [
    "# Data wragling libraries\n",
    "import pandas as pd\n",
    "import numpy as np\n",
    "\n",
    "# Ignoring warning\n",
    "import warnings\n",
    "warnings.filterwarnings('ignore')\n",
    "\n",
    "# Creating, storing and connecting to a database\n",
    "import mysql.connector\n",
    "from mysql.connector import Error"
   ]
  },
  {
   "cell_type": "markdown",
   "id": "3a0393f9",
   "metadata": {},
   "source": [
    "### Loading Dataset"
   ]
  },
  {
   "cell_type": "code",
   "execution_count": 2,
   "id": "d8168912",
   "metadata": {},
   "outputs": [],
   "source": [
    "df = pd.read_csv(\"table_data.csv\")"
   ]
  },
  {
   "cell_type": "markdown",
   "id": "b160e6a4",
   "metadata": {},
   "source": [
    "### Connecting to MySQL"
   ]
  },
  {
   "cell_type": "code",
   "execution_count": 3,
   "id": "dd6d57e6",
   "metadata": {},
   "outputs": [
    {
     "name": "stdout",
     "output_type": "stream",
     "text": [
      "<mysql.connector.connection.MySQLConnection object at 0x7fa932ac7490>\n"
     ]
    }
   ],
   "source": [
    "mysql_connect = mysql.connector.connect(host='localhost', user='root', password ='Adizoriola+1')\n",
    "print(mysql_connect)"
   ]
  },
  {
   "cell_type": "markdown",
   "id": "1168f208",
   "metadata": {},
   "source": [
    "### Creating Database"
   ]
  },
  {
   "cell_type": "code",
   "execution_count": 4,
   "id": "06b95f4f",
   "metadata": {},
   "outputs": [],
   "source": [
    "def CreateDatabase (mysql_connection, db_name) :\n",
    "    cursor = mysql_connection.cursor()\n",
    "    query = f\"CREATE DATABASE {db_name}\"\n",
    "    try:\n",
    "        cursor.execute(query)\n",
    "        print ('Database created successfully')\n",
    "    except Error as err:\n",
    "        print(f'Error : {err}')"
   ]
  },
  {
   "cell_type": "code",
   "execution_count": 6,
   "id": "a177bd2c",
   "metadata": {},
   "outputs": [
    {
     "name": "stdout",
     "output_type": "stream",
     "text": [
      "Database created successfully\n"
     ]
    }
   ],
   "source": [
    "CreateDatabase(mysql_connect, 'MoniSavingss')"
   ]
  },
  {
   "cell_type": "code",
   "execution_count": 7,
   "id": "efb6d240",
   "metadata": {},
   "outputs": [],
   "source": [
    "def DatabaseConnector(user_name, host_name, password, database):\n",
    "    connection = None\n",
    "    try:\n",
    "        connection = mysql.connector.connect (host = host_name,user = user_name,\n",
    "                                              passwd = password, database = database)\n",
    "        print ('Mysql Database connected successfully')\n",
    "    except Error as err:\n",
    "        \n",
    "        print (f'Error: {err}\\n')\n",
    "    return connection"
   ]
  },
  {
   "cell_type": "code",
   "execution_count": 8,
   "id": "90866d57",
   "metadata": {},
   "outputs": [
    {
     "name": "stdout",
     "output_type": "stream",
     "text": [
      "Mysql Database connected successfully\n"
     ]
    }
   ],
   "source": [
    "db_connection = DatabaseConnector(user_name = 'root', host_name = 'localhost',\n",
    "                                password = 'Adizoriola+1', database = 'MoniSavingss')"
   ]
  },
  {
   "cell_type": "code",
   "execution_count": 9,
   "id": "21d5e7ba",
   "metadata": {},
   "outputs": [],
   "source": [
    "# Creating the function to execute query\n",
    "\n",
    "def ExecuteQuery(db_connection, query):\n",
    "    cursor = db_connection.cursor()\n",
    "    result = None\n",
    "    try:\n",
    "        cursor.execute (query)\n",
    "        result = cursor.fetchall()\n",
    "    except Error as err:\n",
    "        print(f'Error : {err}')\n",
    "    return result"
   ]
  },
  {
   "cell_type": "code",
   "execution_count": 4,
   "id": "cc293154",
   "metadata": {},
   "outputs": [
    {
     "name": "stdout",
     "output_type": "stream",
     "text": [
      "<class 'pandas.core.frame.DataFrame'>\n",
      "RangeIndex: 500 entries, 0 to 499\n",
      "Data columns (total 26 columns):\n",
      " #   Column                                Non-Null Count  Dtype  \n",
      "---  ------                                --------------  -----  \n",
      " 0   Funding _ Primary _ ID                500 non-null    object \n",
      " 1   Funding _ Primary _ Type              500 non-null    object \n",
      " 2   ID                                    500 non-null    object \n",
      " 3   Schedule _ Format                     424 non-null    object \n",
      " 4   Schedule _ Free Withdrawals Left      500 non-null    int64  \n",
      " 5   Schedule _ Frequency                  424 non-null    object \n",
      " 6   Schedule _ History _ Last Date        500 non-null    object \n",
      " 7   Schedule _ History _ Next Date        500 non-null    object \n",
      " 8   Schedule _ Interest Per Day           500 non-null    float64\n",
      " 9   Schedule _ Interest Withdrawals Type  76 non-null     object \n",
      " 10  Schedule _ Settings _ Day             424 non-null    float64\n",
      " 11  Schedule _ Settings _ Time            298 non-null    object \n",
      " 12  Savings Type ID                       500 non-null    int64  \n",
      " 13  Status ID                             500 non-null    int64  \n",
      " 14  Owner ID                              500 non-null    object \n",
      " 15  Principal Amount                      500 non-null    int64  \n",
      " 16  Target Amount                         500 non-null    int64  \n",
      " 17  Amount Per Frequency                  500 non-null    int64  \n",
      " 18  Interest                              500 non-null    float64\n",
      " 19  Title                                 500 non-null    object \n",
      " 20  Duration                              500 non-null    int64  \n",
      " 21  Start Date                            500 non-null    object \n",
      " 22  End Date                              500 non-null    object \n",
      " 23  Next Debit Date                       424 non-null    object \n",
      " 24  Created At                            500 non-null    object \n",
      " 25  Modified At                           500 non-null    object \n",
      "dtypes: float64(3), int64(7), object(16)\n",
      "memory usage: 101.7+ KB\n"
     ]
    }
   ],
   "source": [
    "df.info()"
   ]
  },
  {
   "cell_type": "code",
   "execution_count": 5,
   "id": "b1bca186",
   "metadata": {},
   "outputs": [
    {
     "data": {
      "text/plain": [
       "['Schedule _ History _ Last Date',\n",
       " 'Schedule _ History _ Next Date',\n",
       " 'Start Date',\n",
       " 'End Date',\n",
       " 'Next Debit Date',\n",
       " 'Created At',\n",
       " 'Modified At']"
      ]
     },
     "execution_count": 5,
     "metadata": {},
     "output_type": "execute_result"
    }
   ],
   "source": [
    "### Putting the date features in a list in order to change the datatype\n",
    "\n",
    "date_features= [x for x in df.columns if \"Date\" in x or \"Created At\" in x or \"Modified At\"in x ]\n",
    "date_features"
   ]
  },
  {
   "cell_type": "code",
   "execution_count": 6,
   "id": "6a6d861f",
   "metadata": {},
   "outputs": [],
   "source": [
    "## Converting the date features to a datetime feature\n",
    "for col in date_features:\n",
    "    df[col] = pd.to_datetime(df[col])"
   ]
  },
  {
   "cell_type": "code",
   "execution_count": 7,
   "id": "751846eb",
   "metadata": {},
   "outputs": [],
   "source": [
    "# checking the percentage of missing values\n",
    "\n",
    "def missing_values_tables(df):\n",
    "    # Total Missing Values\n",
    "    missing_values = df.isnull().sum()\n",
    "    \n",
    "    # Percentage of Missing Values\n",
    "    missing_value_percent = 100 * (df.isnull().sum()/len(df))\n",
    "    \n",
    "    # Make a table with the results\n",
    "    missing_value_table = pd.concat([missing_values, missing_value_percent], axis = 1)\n",
    "    \n",
    "    # Rename the columns \n",
    "    missing_values_table_rename_columns = missing_value_table.rename(columns = {0 : 'Missing Values', 1 : '% of Total Values'})\n",
    "                        \n",
    "    # Sort the table by percentage of missing descending\n",
    "    missing_values_table_rename_columns = missing_values_table_rename_columns[missing_values_table_rename_columns.iloc[:,1] != 0].sort_values('% of Total Values', ascending=False).round(1)\n",
    "    \n",
    "    # Printing some sumarry information\n",
    "    print (\"Your selected dataframe has \" + str(df.shape[1]) + \" columns.\\n\"      \n",
    "            \"There are \" + str(missing_values_table_rename_columns.shape[0]) +\n",
    "              \" columns that have missing values.\")\n",
    "                                   \n",
    "     # Return the dataframe with missing information\n",
    "    return missing_values_table_rename_columns"
   ]
  },
  {
   "cell_type": "code",
   "execution_count": 8,
   "id": "4f1c333b",
   "metadata": {},
   "outputs": [
    {
     "name": "stdout",
     "output_type": "stream",
     "text": [
      "Your selected dataframe has 26 columns.\n",
      "There are 6 columns that have missing values.\n"
     ]
    },
    {
     "data": {
      "text/html": [
       "<div>\n",
       "<style scoped>\n",
       "    .dataframe tbody tr th:only-of-type {\n",
       "        vertical-align: middle;\n",
       "    }\n",
       "\n",
       "    .dataframe tbody tr th {\n",
       "        vertical-align: top;\n",
       "    }\n",
       "\n",
       "    .dataframe thead th {\n",
       "        text-align: right;\n",
       "    }\n",
       "</style>\n",
       "<table border=\"1\" class=\"dataframe\">\n",
       "  <thead>\n",
       "    <tr style=\"text-align: right;\">\n",
       "      <th></th>\n",
       "      <th>Missing Values</th>\n",
       "      <th>% of Total Values</th>\n",
       "    </tr>\n",
       "  </thead>\n",
       "  <tbody>\n",
       "    <tr>\n",
       "      <th>Schedule _ Interest Withdrawals Type</th>\n",
       "      <td>424</td>\n",
       "      <td>84.8</td>\n",
       "    </tr>\n",
       "    <tr>\n",
       "      <th>Schedule _ Settings _ Time</th>\n",
       "      <td>202</td>\n",
       "      <td>40.4</td>\n",
       "    </tr>\n",
       "    <tr>\n",
       "      <th>Schedule _ Format</th>\n",
       "      <td>76</td>\n",
       "      <td>15.2</td>\n",
       "    </tr>\n",
       "    <tr>\n",
       "      <th>Schedule _ Frequency</th>\n",
       "      <td>76</td>\n",
       "      <td>15.2</td>\n",
       "    </tr>\n",
       "    <tr>\n",
       "      <th>Schedule _ Settings _ Day</th>\n",
       "      <td>76</td>\n",
       "      <td>15.2</td>\n",
       "    </tr>\n",
       "    <tr>\n",
       "      <th>Next Debit Date</th>\n",
       "      <td>76</td>\n",
       "      <td>15.2</td>\n",
       "    </tr>\n",
       "  </tbody>\n",
       "</table>\n",
       "</div>"
      ],
      "text/plain": [
       "                                      Missing Values  % of Total Values\n",
       "Schedule _ Interest Withdrawals Type             424               84.8\n",
       "Schedule _ Settings _ Time                       202               40.4\n",
       "Schedule _ Format                                 76               15.2\n",
       "Schedule _ Frequency                              76               15.2\n",
       "Schedule _ Settings _ Day                         76               15.2\n",
       "Next Debit Date                                   76               15.2"
      ]
     },
     "execution_count": 8,
     "metadata": {},
     "output_type": "execute_result"
    }
   ],
   "source": [
    "missing_values_tables(df)"
   ]
  },
  {
   "cell_type": "code",
   "execution_count": 9,
   "id": "bf3cce87",
   "metadata": {},
   "outputs": [],
   "source": [
    "# Drop Columns that might not be useful for analysis\n",
    "\n",
    "df = df.drop(columns=['Schedule _ History _ Last Date', 'Schedule _ Interest Withdrawals Type', 'Schedule _ History _ Next Date', 'Schedule _ Settings _ Day',\n",
    "                         'Schedule _ Settings _ Time', 'Next Debit Date'])"
   ]
  },
  {
   "cell_type": "code",
   "execution_count": 24,
   "id": "7c4fbe91",
   "metadata": {},
   "outputs": [
    {
     "data": {
      "text/plain": [
       "[]"
      ]
     },
     "execution_count": 24,
     "metadata": {},
     "output_type": "execute_result"
    }
   ],
   "source": [
    "create_table = \"\"\"\n",
    "CREATE TABLE dataset(\n",
    "  funding_primary_id VARCHAR(255) NULL,\n",
    "  funding_primary_type VARCHAR(255) NULL,\n",
    "  ID VARCHAR(255) NULL,\n",
    "  schedule_format VARCHAR(255) NULL,\n",
    "  schedule_free_withdrawals_left INT NULL,\n",
    "  schedule_frequency VARCHAR(255) NULL,\n",
    "  schedule_interest_per_day FLOAT NULL,\n",
    "  savings_type_id INT NULL,\n",
    "  status_id INT NULL,\n",
    "  owner_id VARCHAR(255) NULL,\n",
    "  principal_amount FLOAT NULL,\n",
    "  target_amount FLOAT NULL,\n",
    "  amount_per_frequency FLOAT NULL,\n",
    "  interest FLOAT NULL,\n",
    "  title VARCHAR(255) NULL,\n",
    "  duration INT NULL,\n",
    "  start_date DATETIME NULL,\n",
    "  end_date DATETIME NULL,\n",
    "  created_at DATETIME NULL,\n",
    "  modified_at DATETIME NULL\n",
    ");\n",
    "\"\"\"\n",
    "ExecuteQuery(db_connection, create_table)\n"
   ]
  },
  {
   "cell_type": "code",
   "execution_count": 26,
   "id": "a0388908",
   "metadata": {},
   "outputs": [
    {
     "data": {
      "text/plain": [
       "[('funding_primary_id', 'varchar(255)', 'YES', '', None, ''),\n",
       " ('funding_primary_type', 'varchar(255)', 'YES', '', None, ''),\n",
       " ('ID', 'varchar(255)', 'YES', '', None, ''),\n",
       " ('schedule_format', 'varchar(255)', 'YES', '', None, ''),\n",
       " ('schedule_free_withdrawals_left', 'int', 'YES', '', None, ''),\n",
       " ('schedule_frequency', 'varchar(255)', 'YES', '', None, ''),\n",
       " ('schedule_interest_per_day', 'float', 'YES', '', None, ''),\n",
       " ('savings_type_id', 'int', 'YES', '', None, ''),\n",
       " ('status_id', 'int', 'YES', '', None, ''),\n",
       " ('owner_id', 'varchar(255)', 'YES', '', None, ''),\n",
       " ('principal_amount', 'float', 'YES', '', None, ''),\n",
       " ('target_amount', 'float', 'YES', '', None, ''),\n",
       " ('amount_per_frequency', 'float', 'YES', '', None, ''),\n",
       " ('interest', 'float', 'YES', '', None, ''),\n",
       " ('title', 'varchar(255)', 'YES', '', None, ''),\n",
       " ('duration', 'int', 'YES', '', None, ''),\n",
       " ('start_date', 'datetime', 'YES', '', None, ''),\n",
       " ('end_date', 'datetime', 'YES', '', None, ''),\n",
       " ('created_at', 'datetime', 'YES', '', None, ''),\n",
       " ('modified_at', 'datetime', 'YES', '', None, '')]"
      ]
     },
     "execution_count": 26,
     "metadata": {},
     "output_type": "execute_result"
    }
   ],
   "source": [
    "query = 'DESCRIBE dataset'\n",
    "ExecuteQuery(db_connection, query)"
   ]
  },
  {
   "cell_type": "code",
   "execution_count": 33,
   "id": "3c5e6a71",
   "metadata": {},
   "outputs": [],
   "source": [
    "# Convert DataFrame to tuple for ease of inserting it into the table created\n",
    "\n",
    "tuple_of_tuples = tuple(df.to_records(index=False))\n"
   ]
  },
  {
   "cell_type": "markdown",
   "id": "28ada90b",
   "metadata": {},
   "source": [
    "### Data cleaning with Python"
   ]
  },
  {
   "cell_type": "code",
   "execution_count": 12,
   "id": "f6865c42",
   "metadata": {},
   "outputs": [
    {
     "data": {
      "text/html": [
       "<div>\n",
       "<style scoped>\n",
       "    .dataframe tbody tr th:only-of-type {\n",
       "        vertical-align: middle;\n",
       "    }\n",
       "\n",
       "    .dataframe tbody tr th {\n",
       "        vertical-align: top;\n",
       "    }\n",
       "\n",
       "    .dataframe thead th {\n",
       "        text-align: right;\n",
       "    }\n",
       "</style>\n",
       "<table border=\"1\" class=\"dataframe\">\n",
       "  <thead>\n",
       "    <tr style=\"text-align: right;\">\n",
       "      <th></th>\n",
       "      <th>Funding _ Primary _ ID</th>\n",
       "      <th>Funding _ Primary _ Type</th>\n",
       "      <th>ID</th>\n",
       "      <th>Schedule _ Format</th>\n",
       "      <th>Schedule _ Free Withdrawals Left</th>\n",
       "      <th>Schedule _ Frequency</th>\n",
       "      <th>Schedule _ Interest Per Day</th>\n",
       "      <th>Savings Type ID</th>\n",
       "      <th>Status ID</th>\n",
       "      <th>Owner ID</th>\n",
       "      <th>Principal Amount</th>\n",
       "      <th>Target Amount</th>\n",
       "      <th>Amount Per Frequency</th>\n",
       "      <th>Interest</th>\n",
       "      <th>Title</th>\n",
       "      <th>Duration</th>\n",
       "      <th>Start Date</th>\n",
       "      <th>End Date</th>\n",
       "      <th>Created At</th>\n",
       "      <th>Modified At</th>\n",
       "    </tr>\n",
       "  </thead>\n",
       "  <tbody>\n",
       "    <tr>\n",
       "      <th>0</th>\n",
       "      <td>\"95510a7b-6103-4e95-bb85-eb105ba3b1b0\"</td>\n",
       "      <td>\"wallet\"</td>\n",
       "      <td>000edeb5-8513-4194-83dc-90b505f050ed</td>\n",
       "      <td>\"regular\"</td>\n",
       "      <td>1</td>\n",
       "      <td>\"monthly\"</td>\n",
       "      <td>0.0520</td>\n",
       "      <td>2</td>\n",
       "      <td>3</td>\n",
       "      <td>f54ea357-ed1c-4399-99e3-69ccd25934d7</td>\n",
       "      <td>3000000</td>\n",
       "      <td>36000000</td>\n",
       "      <td>3000000</td>\n",
       "      <td>19.0</td>\n",
       "      <td>Save 30k Monthly</td>\n",
       "      <td>12</td>\n",
       "      <td>2023-01-04 16:18:00</td>\n",
       "      <td>2024-01-04 16:18:00</td>\n",
       "      <td>2023-01-04 16:18:00</td>\n",
       "      <td>2023-02-10 01:59:00</td>\n",
       "    </tr>\n",
       "    <tr>\n",
       "      <th>1</th>\n",
       "      <td>\"ba6fb253-faa7-4fc3-963b-e7a45149495a\"</td>\n",
       "      <td>\"wallet\"</td>\n",
       "      <td>00b88550-09e1-41ab-8a62-b74c120b5470</td>\n",
       "      <td>\"regular\"</td>\n",
       "      <td>1</td>\n",
       "      <td>\"weekly\"</td>\n",
       "      <td>0.0219</td>\n",
       "      <td>2</td>\n",
       "      <td>3</td>\n",
       "      <td>427b2439-7112-4137-be9d-00a42f5a7dda</td>\n",
       "      <td>500000</td>\n",
       "      <td>6500000</td>\n",
       "      <td>500000</td>\n",
       "      <td>8.0</td>\n",
       "      <td>Ashedzi</td>\n",
       "      <td>3</td>\n",
       "      <td>2022-06-26 10:01:00</td>\n",
       "      <td>2022-09-26 10:01:00</td>\n",
       "      <td>2022-06-26 10:01:00</td>\n",
       "      <td>2022-11-03 01:36:00</td>\n",
       "    </tr>\n",
       "    <tr>\n",
       "      <th>2</th>\n",
       "      <td>\"8559244b-64b5-4040-8ae2-b99fcf38cf8b\"</td>\n",
       "      <td>\"wallet\"</td>\n",
       "      <td>00c57cd9-d016-4309-a540-f27b9ed6d999</td>\n",
       "      <td>\"regular\"</td>\n",
       "      <td>2</td>\n",
       "      <td>\"daily\"</td>\n",
       "      <td>0.0260</td>\n",
       "      <td>2</td>\n",
       "      <td>26</td>\n",
       "      <td>41ab9b38-b240-41e5-a123-e1e91556f46f</td>\n",
       "      <td>10000</td>\n",
       "      <td>1530000</td>\n",
       "      <td>10000</td>\n",
       "      <td>9.5</td>\n",
       "      <td>davings</td>\n",
       "      <td>5</td>\n",
       "      <td>2022-08-07 04:59:00</td>\n",
       "      <td>2023-01-07 04:59:00</td>\n",
       "      <td>2022-08-07 04:59:00</td>\n",
       "      <td>2023-01-07 05:00:00</td>\n",
       "    </tr>\n",
       "    <tr>\n",
       "      <th>3</th>\n",
       "      <td>\"f9a6b320-a46b-4c72-b949-5c9f2f350e45\"</td>\n",
       "      <td>\"wallet\"</td>\n",
       "      <td>015a1980-0da9-4844-9dc8-f321f5a28780</td>\n",
       "      <td>\"target\"</td>\n",
       "      <td>2</td>\n",
       "      <td>\"monthly\"</td>\n",
       "      <td>0.0260</td>\n",
       "      <td>2</td>\n",
       "      <td>1</td>\n",
       "      <td>b0cb0cb1-a6d0-439b-8ae7-e04217a9021a</td>\n",
       "      <td>2000000</td>\n",
       "      <td>10000000</td>\n",
       "      <td>2000000</td>\n",
       "      <td>9.5</td>\n",
       "      <td>Big Chief __</td>\n",
       "      <td>5</td>\n",
       "      <td>2022-10-15 23:47:00</td>\n",
       "      <td>2023-03-15 23:47:00</td>\n",
       "      <td>2022-10-15 23:47:00</td>\n",
       "      <td>2023-02-07 00:03:00</td>\n",
       "    </tr>\n",
       "    <tr>\n",
       "      <th>4</th>\n",
       "      <td>\"56042136-c2ab-4c08-a507-aabed521b09b\"</td>\n",
       "      <td>\"wallet\"</td>\n",
       "      <td>01991de1-e1be-4eac-b32a-b272d24add17</td>\n",
       "      <td>\"regular\"</td>\n",
       "      <td>0</td>\n",
       "      <td>\"daily\"</td>\n",
       "      <td>0.0190</td>\n",
       "      <td>2</td>\n",
       "      <td>3</td>\n",
       "      <td>24fbd5f2-357d-4eb3-862e-892ec5c1dd3f</td>\n",
       "      <td>1000000</td>\n",
       "      <td>31000000</td>\n",
       "      <td>1000000</td>\n",
       "      <td>7.0</td>\n",
       "      <td>new</td>\n",
       "      <td>1</td>\n",
       "      <td>2023-01-26 03:52:00</td>\n",
       "      <td>2023-02-26 03:52:00</td>\n",
       "      <td>2023-01-26 03:52:00</td>\n",
       "      <td>2023-01-26 04:01:00</td>\n",
       "    </tr>\n",
       "  </tbody>\n",
       "</table>\n",
       "</div>"
      ],
      "text/plain": [
       "                   Funding _ Primary _ ID Funding _ Primary _ Type  \\\n",
       "0  \"95510a7b-6103-4e95-bb85-eb105ba3b1b0\"                 \"wallet\"   \n",
       "1  \"ba6fb253-faa7-4fc3-963b-e7a45149495a\"                 \"wallet\"   \n",
       "2  \"8559244b-64b5-4040-8ae2-b99fcf38cf8b\"                 \"wallet\"   \n",
       "3  \"f9a6b320-a46b-4c72-b949-5c9f2f350e45\"                 \"wallet\"   \n",
       "4  \"56042136-c2ab-4c08-a507-aabed521b09b\"                 \"wallet\"   \n",
       "\n",
       "                                     ID Schedule _ Format  \\\n",
       "0  000edeb5-8513-4194-83dc-90b505f050ed         \"regular\"   \n",
       "1  00b88550-09e1-41ab-8a62-b74c120b5470         \"regular\"   \n",
       "2  00c57cd9-d016-4309-a540-f27b9ed6d999         \"regular\"   \n",
       "3  015a1980-0da9-4844-9dc8-f321f5a28780          \"target\"   \n",
       "4  01991de1-e1be-4eac-b32a-b272d24add17         \"regular\"   \n",
       "\n",
       "   Schedule _ Free Withdrawals Left Schedule _ Frequency  \\\n",
       "0                                 1            \"monthly\"   \n",
       "1                                 1             \"weekly\"   \n",
       "2                                 2              \"daily\"   \n",
       "3                                 2            \"monthly\"   \n",
       "4                                 0              \"daily\"   \n",
       "\n",
       "   Schedule _ Interest Per Day  Savings Type ID  Status ID  \\\n",
       "0                       0.0520                2          3   \n",
       "1                       0.0219                2          3   \n",
       "2                       0.0260                2         26   \n",
       "3                       0.0260                2          1   \n",
       "4                       0.0190                2          3   \n",
       "\n",
       "                               Owner ID  Principal Amount  Target Amount  \\\n",
       "0  f54ea357-ed1c-4399-99e3-69ccd25934d7           3000000       36000000   \n",
       "1  427b2439-7112-4137-be9d-00a42f5a7dda            500000        6500000   \n",
       "2  41ab9b38-b240-41e5-a123-e1e91556f46f             10000        1530000   \n",
       "3  b0cb0cb1-a6d0-439b-8ae7-e04217a9021a           2000000       10000000   \n",
       "4  24fbd5f2-357d-4eb3-862e-892ec5c1dd3f           1000000       31000000   \n",
       "\n",
       "   Amount Per Frequency  Interest             Title  Duration  \\\n",
       "0               3000000      19.0  Save 30k Monthly        12   \n",
       "1                500000       8.0           Ashedzi         3   \n",
       "2                 10000       9.5           davings         5   \n",
       "3               2000000       9.5      Big Chief __         5   \n",
       "4               1000000       7.0               new         1   \n",
       "\n",
       "           Start Date            End Date          Created At  \\\n",
       "0 2023-01-04 16:18:00 2024-01-04 16:18:00 2023-01-04 16:18:00   \n",
       "1 2022-06-26 10:01:00 2022-09-26 10:01:00 2022-06-26 10:01:00   \n",
       "2 2022-08-07 04:59:00 2023-01-07 04:59:00 2022-08-07 04:59:00   \n",
       "3 2022-10-15 23:47:00 2023-03-15 23:47:00 2022-10-15 23:47:00   \n",
       "4 2023-01-26 03:52:00 2023-02-26 03:52:00 2023-01-26 03:52:00   \n",
       "\n",
       "          Modified At  \n",
       "0 2023-02-10 01:59:00  \n",
       "1 2022-11-03 01:36:00  \n",
       "2 2023-01-07 05:00:00  \n",
       "3 2023-02-07 00:03:00  \n",
       "4 2023-01-26 04:01:00  "
      ]
     },
     "execution_count": 12,
     "metadata": {},
     "output_type": "execute_result"
    }
   ],
   "source": [
    "df.head()"
   ]
  },
  {
   "cell_type": "code",
   "execution_count": 13,
   "id": "9d390127",
   "metadata": {},
   "outputs": [
    {
     "name": "stdout",
     "output_type": "stream",
     "text": [
      "<class 'pandas.core.frame.DataFrame'>\n",
      "RangeIndex: 500 entries, 0 to 499\n",
      "Data columns (total 20 columns):\n",
      " #   Column                            Non-Null Count  Dtype         \n",
      "---  ------                            --------------  -----         \n",
      " 0   Funding _ Primary _ ID            500 non-null    object        \n",
      " 1   Funding _ Primary _ Type          500 non-null    object        \n",
      " 2   ID                                500 non-null    object        \n",
      " 3   Schedule _ Format                 424 non-null    object        \n",
      " 4   Schedule _ Free Withdrawals Left  500 non-null    int64         \n",
      " 5   Schedule _ Frequency              424 non-null    object        \n",
      " 6   Schedule _ Interest Per Day       500 non-null    float64       \n",
      " 7   Savings Type ID                   500 non-null    int64         \n",
      " 8   Status ID                         500 non-null    int64         \n",
      " 9   Owner ID                          500 non-null    object        \n",
      " 10  Principal Amount                  500 non-null    int64         \n",
      " 11  Target Amount                     500 non-null    int64         \n",
      " 12  Amount Per Frequency              500 non-null    int64         \n",
      " 13  Interest                          500 non-null    float64       \n",
      " 14  Title                             500 non-null    object        \n",
      " 15  Duration                          500 non-null    int64         \n",
      " 16  Start Date                        500 non-null    datetime64[ns]\n",
      " 17  End Date                          500 non-null    datetime64[ns]\n",
      " 18  Created At                        500 non-null    datetime64[ns]\n",
      " 19  Modified At                       500 non-null    datetime64[ns]\n",
      "dtypes: datetime64[ns](4), float64(2), int64(7), object(7)\n",
      "memory usage: 78.2+ KB\n"
     ]
    }
   ],
   "source": [
    "df.info()"
   ]
  },
  {
   "cell_type": "code",
   "execution_count": 14,
   "id": "76096739",
   "metadata": {},
   "outputs": [
    {
     "data": {
      "text/html": [
       "<div>\n",
       "<style scoped>\n",
       "    .dataframe tbody tr th:only-of-type {\n",
       "        vertical-align: middle;\n",
       "    }\n",
       "\n",
       "    .dataframe tbody tr th {\n",
       "        vertical-align: top;\n",
       "    }\n",
       "\n",
       "    .dataframe thead th {\n",
       "        text-align: right;\n",
       "    }\n",
       "</style>\n",
       "<table border=\"1\" class=\"dataframe\">\n",
       "  <thead>\n",
       "    <tr style=\"text-align: right;\">\n",
       "      <th></th>\n",
       "      <th>count</th>\n",
       "      <th>mean</th>\n",
       "      <th>std</th>\n",
       "      <th>min</th>\n",
       "      <th>25%</th>\n",
       "      <th>50%</th>\n",
       "      <th>75%</th>\n",
       "      <th>max</th>\n",
       "    </tr>\n",
       "  </thead>\n",
       "  <tbody>\n",
       "    <tr>\n",
       "      <th>Schedule _ Free Withdrawals Left</th>\n",
       "      <td>500.0</td>\n",
       "      <td>1.032000e+00</td>\n",
       "      <td>9.168737e-01</td>\n",
       "      <td>0.000</td>\n",
       "      <td>0.00</td>\n",
       "      <td>1.000</td>\n",
       "      <td>2.000000e+00</td>\n",
       "      <td>2.000000e+00</td>\n",
       "    </tr>\n",
       "    <tr>\n",
       "      <th>Schedule _ Interest Per Day</th>\n",
       "      <td>500.0</td>\n",
       "      <td>3.592580e-02</td>\n",
       "      <td>1.976299e-02</td>\n",
       "      <td>0.019</td>\n",
       "      <td>0.02</td>\n",
       "      <td>0.026</td>\n",
       "      <td>5.200000e-02</td>\n",
       "      <td>1.530000e-01</td>\n",
       "    </tr>\n",
       "    <tr>\n",
       "      <th>Savings Type ID</th>\n",
       "      <td>500.0</td>\n",
       "      <td>2.128000e+00</td>\n",
       "      <td>3.686296e-01</td>\n",
       "      <td>1.000</td>\n",
       "      <td>2.00</td>\n",
       "      <td>2.000</td>\n",
       "      <td>2.000000e+00</td>\n",
       "      <td>3.000000e+00</td>\n",
       "    </tr>\n",
       "    <tr>\n",
       "      <th>Status ID</th>\n",
       "      <td>500.0</td>\n",
       "      <td>4.744000e+00</td>\n",
       "      <td>8.056070e+00</td>\n",
       "      <td>1.000</td>\n",
       "      <td>1.00</td>\n",
       "      <td>1.000</td>\n",
       "      <td>3.000000e+00</td>\n",
       "      <td>2.600000e+01</td>\n",
       "    </tr>\n",
       "    <tr>\n",
       "      <th>Principal Amount</th>\n",
       "      <td>500.0</td>\n",
       "      <td>1.233855e+07</td>\n",
       "      <td>5.477724e+07</td>\n",
       "      <td>10000.000</td>\n",
       "      <td>100000.00</td>\n",
       "      <td>500000.000</td>\n",
       "      <td>2.589286e+06</td>\n",
       "      <td>5.000000e+08</td>\n",
       "    </tr>\n",
       "    <tr>\n",
       "      <th>Target Amount</th>\n",
       "      <td>500.0</td>\n",
       "      <td>5.875721e+07</td>\n",
       "      <td>2.418265e+08</td>\n",
       "      <td>90000.000</td>\n",
       "      <td>2600000.00</td>\n",
       "      <td>9947500.000</td>\n",
       "      <td>3.000000e+07</td>\n",
       "      <td>2.147484e+09</td>\n",
       "    </tr>\n",
       "    <tr>\n",
       "      <th>Amount Per Frequency</th>\n",
       "      <td>500.0</td>\n",
       "      <td>2.478747e+06</td>\n",
       "      <td>1.090338e+07</td>\n",
       "      <td>0.000</td>\n",
       "      <td>32923.50</td>\n",
       "      <td>200000.000</td>\n",
       "      <td>1.000000e+06</td>\n",
       "      <td>1.000000e+08</td>\n",
       "    </tr>\n",
       "    <tr>\n",
       "      <th>Interest</th>\n",
       "      <td>500.0</td>\n",
       "      <td>1.295700e+01</td>\n",
       "      <td>6.677037e+00</td>\n",
       "      <td>7.000</td>\n",
       "      <td>7.50</td>\n",
       "      <td>9.500</td>\n",
       "      <td>1.900000e+01</td>\n",
       "      <td>2.800000e+01</td>\n",
       "    </tr>\n",
       "    <tr>\n",
       "      <th>Duration</th>\n",
       "      <td>500.0</td>\n",
       "      <td>5.376000e+00</td>\n",
       "      <td>4.076255e+00</td>\n",
       "      <td>1.000</td>\n",
       "      <td>2.00</td>\n",
       "      <td>4.000</td>\n",
       "      <td>9.000000e+00</td>\n",
       "      <td>1.200000e+01</td>\n",
       "    </tr>\n",
       "  </tbody>\n",
       "</table>\n",
       "</div>"
      ],
      "text/plain": [
       "                                  count          mean           std  \\\n",
       "Schedule _ Free Withdrawals Left  500.0  1.032000e+00  9.168737e-01   \n",
       "Schedule _ Interest Per Day       500.0  3.592580e-02  1.976299e-02   \n",
       "Savings Type ID                   500.0  2.128000e+00  3.686296e-01   \n",
       "Status ID                         500.0  4.744000e+00  8.056070e+00   \n",
       "Principal Amount                  500.0  1.233855e+07  5.477724e+07   \n",
       "Target Amount                     500.0  5.875721e+07  2.418265e+08   \n",
       "Amount Per Frequency              500.0  2.478747e+06  1.090338e+07   \n",
       "Interest                          500.0  1.295700e+01  6.677037e+00   \n",
       "Duration                          500.0  5.376000e+00  4.076255e+00   \n",
       "\n",
       "                                        min         25%          50%  \\\n",
       "Schedule _ Free Withdrawals Left      0.000        0.00        1.000   \n",
       "Schedule _ Interest Per Day           0.019        0.02        0.026   \n",
       "Savings Type ID                       1.000        2.00        2.000   \n",
       "Status ID                             1.000        1.00        1.000   \n",
       "Principal Amount                  10000.000   100000.00   500000.000   \n",
       "Target Amount                     90000.000  2600000.00  9947500.000   \n",
       "Amount Per Frequency                  0.000    32923.50   200000.000   \n",
       "Interest                              7.000        7.50        9.500   \n",
       "Duration                              1.000        2.00        4.000   \n",
       "\n",
       "                                           75%           max  \n",
       "Schedule _ Free Withdrawals Left  2.000000e+00  2.000000e+00  \n",
       "Schedule _ Interest Per Day       5.200000e-02  1.530000e-01  \n",
       "Savings Type ID                   2.000000e+00  3.000000e+00  \n",
       "Status ID                         3.000000e+00  2.600000e+01  \n",
       "Principal Amount                  2.589286e+06  5.000000e+08  \n",
       "Target Amount                     3.000000e+07  2.147484e+09  \n",
       "Amount Per Frequency              1.000000e+06  1.000000e+08  \n",
       "Interest                          1.900000e+01  2.800000e+01  \n",
       "Duration                          9.000000e+00  1.200000e+01  "
      ]
     },
     "execution_count": 14,
     "metadata": {},
     "output_type": "execute_result"
    }
   ],
   "source": [
    "df.describe().T"
   ]
  },
  {
   "cell_type": "code",
   "execution_count": 16,
   "id": "c5a035a6",
   "metadata": {},
   "outputs": [],
   "source": [
    "df = df.fillna('NULL')"
   ]
  },
  {
   "cell_type": "code",
   "execution_count": 17,
   "id": "3353e7fa",
   "metadata": {},
   "outputs": [
    {
     "name": "stdout",
     "output_type": "stream",
     "text": [
      "Funding _ Primary _ Type\n",
      "\"card\"       89\n",
      "\"wallet\"    411\n",
      "dtype: int64\n",
      "\n",
      "\n",
      "Schedule _ Format\n",
      "\"regular\"    334\n",
      "\"target\"      90\n",
      "NULL          76\n",
      "dtype: int64\n",
      "\n",
      "\n",
      "Schedule _ Free Withdrawals Left\n",
      "0    202\n",
      "1     80\n",
      "2    218\n",
      "dtype: int64\n",
      "\n",
      "\n",
      "Savings Type ID\n",
      "1      6\n",
      "2    424\n",
      "3     70\n",
      "dtype: int64\n",
      "\n",
      "\n",
      "Schedule _ Frequency\n",
      "\"bi-weekly\"     12\n",
      "\"daily\"        189\n",
      "\"monthly\"      126\n",
      "\"weekly\"        97\n",
      "NULL            76\n",
      "dtype: int64\n",
      "\n",
      "\n"
     ]
    }
   ],
   "source": [
    "# Checking the unique variable in the object features\n",
    "print(df.groupby('Funding _ Primary _ Type').size())\n",
    "print('\\n')\n",
    "print(df.groupby('Schedule _ Format').size())\n",
    "print('\\n')\n",
    "print(df.groupby('Schedule _ Free Withdrawals Left').size())\n",
    "print('\\n')\n",
    "print(df.groupby('Savings Type ID').size())\n",
    "print('\\n')\n",
    "print(df.groupby('Schedule _ Frequency').size())\n",
    "print('\\n')"
   ]
  },
  {
   "cell_type": "code",
   "execution_count": 18,
   "id": "62dd4e87",
   "metadata": {},
   "outputs": [],
   "source": [
    "# Encoding the Schedule format and Scheduled frew properly.\n",
    "default_map = {'\"bi-weekly\"' : 'bi-weekly', '\"daily\"': 'daily',  '\"monthly\"': 'monthly', \n",
    "               '\"weekly\"': 'weekly', 'NULL': 'Not specified'}\n",
    "df['Schedule _ Frequency'] = df['Schedule _ Frequency'].map(default_map)\n",
    "\n",
    "\n",
    "def_map = {'\"regular\"' : \"regular\", '\"target\"': \"target\", 'NULL': 'Not specified'}\n",
    "df['Schedule _ Format'] = df['Schedule _ Format'].map(def_map)\n"
   ]
  },
  {
   "cell_type": "code",
   "execution_count": 22,
   "id": "757bdb4e",
   "metadata": {},
   "outputs": [],
   "source": [
    "def_map = {'\"card\"' : \"card\", '\"wallet\"': \"wallet\"}\n",
    "df['Funding _ Primary _ Type'] = df['Funding _ Primary _ Type'].map(def_map)"
   ]
  },
  {
   "cell_type": "code",
   "execution_count": 23,
   "id": "29220a15",
   "metadata": {},
   "outputs": [
    {
     "name": "stdout",
     "output_type": "stream",
     "text": [
      "Schedule _ Frequency\n",
      "Not specified     76\n",
      "bi-weekly         12\n",
      "daily            189\n",
      "monthly          126\n",
      "weekly            97\n",
      "dtype: int64\n",
      "\n",
      "\n",
      "Schedule _ Format\n",
      "Not specified     76\n",
      "regular          334\n",
      "target            90\n",
      "dtype: int64\n",
      "\n",
      "\n",
      "Funding _ Primary _ Type\n",
      "card       89\n",
      "wallet    411\n",
      "dtype: int64\n"
     ]
    }
   ],
   "source": [
    "print(df.groupby('Schedule _ Frequency').size())\n",
    "print('\\n')\n",
    "print(df.groupby('Schedule _ Format').size())\n",
    "print('\\n')\n",
    "print(df.groupby('Funding _ Primary _ Type').size())"
   ]
  },
  {
   "cell_type": "code",
   "execution_count": 24,
   "id": "5709bf47",
   "metadata": {},
   "outputs": [
    {
     "data": {
      "text/plain": [
       "Duration\n",
       "1     120\n",
       "2       9\n",
       "3     120\n",
       "4      16\n",
       "5      30\n",
       "6      54\n",
       "7      19\n",
       "8       5\n",
       "9       4\n",
       "10     14\n",
       "11      5\n",
       "12    104\n",
       "dtype: int64"
      ]
     },
     "execution_count": 24,
     "metadata": {},
     "output_type": "execute_result"
    }
   ],
   "source": [
    "# Encoding Numerical Variable Duration\n",
    "\n",
    "df.groupby('Duration').size()"
   ]
  },
  {
   "cell_type": "code",
   "execution_count": 25,
   "id": "42242278",
   "metadata": {},
   "outputs": [],
   "source": [
    "# mapping\n",
    "def_map = {1 : \"1 MONTH\", 2 : \"2 MONTHS\", 3 : \"3 MONTHS\", 4 : \"4 MONTHS\", 5 : \"5 MONTHS\",\n",
    "          6 : \"6 MONTHS\", 7 : \"7 MONTHS\", 8 : \"8 MONTHS\", 9 : \"9 MONTHS\", 10 : \"10 MONTHS\", \n",
    "          11 : \"11 MONTHS\", 12 : \"12 MONTHS\"}\n",
    "df['Duration'] = df['Duration'].map(def_map)"
   ]
  },
  {
   "cell_type": "code",
   "execution_count": 26,
   "id": "83d56e4c",
   "metadata": {},
   "outputs": [
    {
     "data": {
      "text/plain": [
       "Duration\n",
       "1 MONTH      120\n",
       "10 MONTHS     14\n",
       "11 MONTHS      5\n",
       "12 MONTHS    104\n",
       "2 MONTHS       9\n",
       "3 MONTHS     120\n",
       "4 MONTHS      16\n",
       "5 MONTHS      30\n",
       "6 MONTHS      54\n",
       "7 MONTHS      19\n",
       "8 MONTHS       5\n",
       "9 MONTHS       4\n",
       "dtype: int64"
      ]
     },
     "execution_count": 26,
     "metadata": {},
     "output_type": "execute_result"
    }
   ],
   "source": [
    "df.groupby('Duration').size()"
   ]
  },
  {
   "cell_type": "code",
   "execution_count": 29,
   "id": "9a70485f",
   "metadata": {},
   "outputs": [
    {
     "data": {
      "text/plain": [
       "Savings Type ID\n",
       "1      6\n",
       "2    424\n",
       "3     70\n",
       "dtype: int64"
      ]
     },
     "execution_count": 29,
     "metadata": {},
     "output_type": "execute_result"
    }
   ],
   "source": [
    "df.groupby('Savings Type ID').size()"
   ]
  },
  {
   "cell_type": "code",
   "execution_count": 30,
   "id": "2806f764",
   "metadata": {},
   "outputs": [
    {
     "data": {
      "text/plain": [
       "Savings Type ID\n",
       "Category 1      6\n",
       "Category 2    424\n",
       "Category 3     70\n",
       "dtype: int64"
      ]
     },
     "execution_count": 30,
     "metadata": {},
     "output_type": "execute_result"
    }
   ],
   "source": [
    "def_map = {1 : \"Category 1\", 2: \"Category 2\", 3: \"Category 3\"}\n",
    "df['Savings Type ID'] = df['Savings Type ID'].map(def_map)\n",
    "\n",
    "df.groupby('Savings Type ID').size()"
   ]
  },
  {
   "cell_type": "code",
   "execution_count": 31,
   "id": "a0cbb6dd",
   "metadata": {},
   "outputs": [
    {
     "name": "stdout",
     "output_type": "stream",
     "text": [
      "<class 'pandas.core.frame.DataFrame'>\n",
      "RangeIndex: 500 entries, 0 to 499\n",
      "Data columns (total 20 columns):\n",
      " #   Column                            Non-Null Count  Dtype         \n",
      "---  ------                            --------------  -----         \n",
      " 0   Funding _ Primary _ ID            500 non-null    object        \n",
      " 1   Funding _ Primary _ Type          500 non-null    object        \n",
      " 2   ID                                500 non-null    object        \n",
      " 3   Schedule _ Format                 500 non-null    object        \n",
      " 4   Schedule _ Free Withdrawals Left  500 non-null    int64         \n",
      " 5   Schedule _ Frequency              500 non-null    object        \n",
      " 6   Schedule _ Interest Per Day       500 non-null    float64       \n",
      " 7   Savings Type ID                   500 non-null    object        \n",
      " 8   Status ID                         500 non-null    int64         \n",
      " 9   Owner ID                          500 non-null    object        \n",
      " 10  Principal Amount                  500 non-null    int64         \n",
      " 11  Target Amount                     500 non-null    int64         \n",
      " 12  Amount Per Frequency              500 non-null    int64         \n",
      " 13  Interest                          500 non-null    float64       \n",
      " 14  Title                             500 non-null    object        \n",
      " 15  Duration                          500 non-null    object        \n",
      " 16  Start Date                        500 non-null    datetime64[ns]\n",
      " 17  End Date                          500 non-null    datetime64[ns]\n",
      " 18  Created At                        500 non-null    datetime64[ns]\n",
      " 19  Modified At                       500 non-null    datetime64[ns]\n",
      "dtypes: datetime64[ns](4), float64(2), int64(5), object(9)\n",
      "memory usage: 78.2+ KB\n"
     ]
    }
   ],
   "source": [
    "df.info()"
   ]
  },
  {
   "cell_type": "code",
   "execution_count": 32,
   "id": "4010a1e9",
   "metadata": {},
   "outputs": [],
   "source": [
    "df.to_csv('table_csv1')"
   ]
  },
  {
   "cell_type": "code",
   "execution_count": null,
   "id": "69e99b10",
   "metadata": {},
   "outputs": [],
   "source": []
  }
 ],
 "metadata": {
  "kernelspec": {
   "display_name": "Python 3 (ipykernel)",
   "language": "python",
   "name": "python3"
  },
  "language_info": {
   "codemirror_mode": {
    "name": "ipython",
    "version": 3
   },
   "file_extension": ".py",
   "mimetype": "text/x-python",
   "name": "python",
   "nbconvert_exporter": "python",
   "pygments_lexer": "ipython3",
   "version": "3.9.7"
  }
 },
 "nbformat": 4,
 "nbformat_minor": 5
}
